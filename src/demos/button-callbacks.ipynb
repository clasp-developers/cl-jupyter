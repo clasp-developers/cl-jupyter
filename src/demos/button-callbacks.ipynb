{
 "cells": [
  {
   "cell_type": "code",
   "execution_count": 1,
   "metadata": {},
   "outputs": [
    {
     "data": {
      "text/plain": [
       "GROUPING"
      ]
     },
     "execution_count": 1,
     "metadata": {},
     "output_type": "execute_result"
    }
   ],
   "source": [
    "(defparameter grouping \n",
    "    (make-instance 'cljw::vbox :children \n",
    "        (vector \n",
    "            (make-instance 'cljw::hbox :children \n",
    "                (vector (make-instance 'cljw::button :description \"a\") (make-instance 'cljw::button :description \"c\")))\n",
    "            (make-instance 'cljw::hbox :children \n",
    "                (vector (make-instance 'cljw::button :description \"b\") (make-instance 'cljw::button :description \"d\")))\n",
    "             (make-instance 'cljw::text :value \"\"))))"
   ]
  },
  {
   "cell_type": "code",
   "execution_count": 2,
   "metadata": {},
   "outputs": [
    {
     "data": {
      "application/vnd.jupyter.widget-view+json": {
       "model_id": "B06EA9CE-06AF-480E-A58C-38FC80D73D1F",
       "version_major": 2,
       "version_minor": 0
      },
      "text/plain": [
       "A Jupyter Widget"
      ]
     },
     "execution_count": 2,
     "metadata": {},
     "output_type": "execute_result"
    }
   ],
   "source": [
    "grouping"
   ]
  },
  {
   "cell_type": "code",
   "execution_count": 5,
   "metadata": {},
   "outputs": [
    {
     "data": {
      "text/plain": [
       "ADD-TO-TEXTBOX"
      ]
     },
     "execution_count": 5,
     "metadata": {},
     "output_type": "execute_result"
    }
   ],
   "source": [
    "(let ((textbox (aref (cljw::children grouping) 2)))\n",
    "  (defun add-to-textbox (button)\n",
    "     (setf (cljw::value textbox) (concatenate 'string (cljw::value textbox) (cljw::description button)))))"
   ]
  },
  {
   "cell_type": "code",
   "execution_count": 6,
   "metadata": {},
   "outputs": [
    {
     "data": {
      "text/plain": [
       "NIL"
      ]
     },
     "execution_count": 6,
     "metadata": {},
     "output_type": "execute_result"
    }
   ],
   "source": [
    "(let* ((children (cljw::children grouping))\n",
    "       (hbox1 (aref children 0))\n",
    "       (hbox1c (cljw::children hbox1))\n",
    "       (A (aref hbox1c 0))\n",
    "       (B (aref hbox1c 1))\n",
    "       (hbox2 (aref children 1))\n",
    "       (hbox2c (cljw::children hbox2))\n",
    "       (C (aref hbox2c 0))\n",
    "       (D (aref hbox2c 1)))\n",
    "  (cljw::on-click A #'add-to-textbox)\n",
    "      (cljw::on-click B #'add-to-textbox)\n",
    "      (cljw::on-click C #'add-to-textbox)\n",
    "      (cljw::on-click D #'add-to-textbox))"
   ]
  },
  {
   "cell_type": "code",
   "execution_count": null,
   "metadata": {},
   "outputs": [],
   "source": []
  },
  {
   "cell_type": "code",
   "execution_count": null,
   "metadata": {},
   "outputs": [],
   "source": []
  }
 ],
 "metadata": {
  "kernelspec": {
   "display_name": "Cando",
   "language": "lisp",
   "name": "lisp"
  },
  "language_info": {
   "codemirror_mode": "text/x-common-lisp",
   "mimetype": "text/x-common-lisp",
   "name": "common-lisp",
   "pygments_lexer": "common-lisp",
   "version": "X3J13"
  }
 },
 "nbformat": 4,
 "nbformat_minor": 2
}
